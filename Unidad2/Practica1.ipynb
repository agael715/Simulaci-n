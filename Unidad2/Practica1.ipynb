{
  "nbformat": 4,
  "nbformat_minor": 0,
  "metadata": {
    "colab": {
      "provenance": [],
      "authorship_tag": "ABX9TyPWv3QkUoczCspTjFxiF5s0",
      "include_colab_link": true
    },
    "kernelspec": {
      "name": "python3",
      "display_name": "Python 3"
    },
    "language_info": {
      "name": "python"
    }
  },
  "cells": [
    {
      "cell_type": "markdown",
      "metadata": {
        "id": "view-in-github",
        "colab_type": "text"
      },
      "source": [
        "<a href=\"https://colab.research.google.com/github/agael715/Simulaci-n/blob/main/Unidad2/Practica1.ipynb\" target=\"_parent\"><img src=\"https://colab.research.google.com/assets/colab-badge.svg\" alt=\"Open In Colab\"/></a>"
      ]
    },
    {
      "cell_type": "code",
      "execution_count": null,
      "metadata": {
        "id": "5IldpMei3T8H"
      },
      "outputs": [],
      "source": []
    },
    {
      "cell_type": "markdown",
      "source": [
        "#Simulación\n",
        "##Unidad 2\n",
        "###Practica 1. Generacion de números aleatorios por el metodo de centros al cuadrado"
      ],
      "metadata": {
        "id": "Y9rN1sfe3ZgU"
      }
    },
    {
      "cell_type": "code",
      "source": [
        "#semilla inicial\n",
        "semilla=2005\n",
        "n=4\n",
        "iteraciones=100\n",
        "resultados=[]\n",
        "\n",
        "for _ in range(iteraciones):\n",
        "  #elevar la semilla al cuadrado\n",
        "  cuadrado =str(semilla**2).zfill(2*n)#agragar espacios necesarios\n",
        "  #extraer los digitos centrales\n",
        "  inicio=(len(cuadrado)-n)//2\n",
        "  semilla =int(cuadrado[inicio:inicio + n])\n",
        "  resultados.append(semilla)\n",
        "\n",
        "#imprimir los resultados\n",
        "for i, numero in enumerate(resultados,1):\n",
        "  print(f\"Número Aleatorio{i}:{numero}\")"
      ],
      "metadata": {
        "colab": {
          "base_uri": "https://localhost:8080/"
        },
        "id": "Kmiyo9a83vSK",
        "outputId": "c6f5b0f4-df24-4c7b-9015-e86329948c80"
      },
      "execution_count": 4,
      "outputs": [
        {
          "output_type": "stream",
          "name": "stdout",
          "text": [
            "Número Aleatorio1:200\n",
            "Número Aleatorio2:400\n",
            "Número Aleatorio3:1600\n",
            "Número Aleatorio4:5600\n",
            "Número Aleatorio5:3600\n",
            "Número Aleatorio6:9600\n",
            "Número Aleatorio7:1600\n",
            "Número Aleatorio8:5600\n",
            "Número Aleatorio9:3600\n",
            "Número Aleatorio10:9600\n",
            "Número Aleatorio11:1600\n",
            "Número Aleatorio12:5600\n",
            "Número Aleatorio13:3600\n",
            "Número Aleatorio14:9600\n",
            "Número Aleatorio15:1600\n",
            "Número Aleatorio16:5600\n",
            "Número Aleatorio17:3600\n",
            "Número Aleatorio18:9600\n",
            "Número Aleatorio19:1600\n",
            "Número Aleatorio20:5600\n",
            "Número Aleatorio21:3600\n",
            "Número Aleatorio22:9600\n",
            "Número Aleatorio23:1600\n",
            "Número Aleatorio24:5600\n",
            "Número Aleatorio25:3600\n",
            "Número Aleatorio26:9600\n",
            "Número Aleatorio27:1600\n",
            "Número Aleatorio28:5600\n",
            "Número Aleatorio29:3600\n",
            "Número Aleatorio30:9600\n",
            "Número Aleatorio31:1600\n",
            "Número Aleatorio32:5600\n",
            "Número Aleatorio33:3600\n",
            "Número Aleatorio34:9600\n",
            "Número Aleatorio35:1600\n",
            "Número Aleatorio36:5600\n",
            "Número Aleatorio37:3600\n",
            "Número Aleatorio38:9600\n",
            "Número Aleatorio39:1600\n",
            "Número Aleatorio40:5600\n",
            "Número Aleatorio41:3600\n",
            "Número Aleatorio42:9600\n",
            "Número Aleatorio43:1600\n",
            "Número Aleatorio44:5600\n",
            "Número Aleatorio45:3600\n",
            "Número Aleatorio46:9600\n",
            "Número Aleatorio47:1600\n",
            "Número Aleatorio48:5600\n",
            "Número Aleatorio49:3600\n",
            "Número Aleatorio50:9600\n",
            "Número Aleatorio51:1600\n",
            "Número Aleatorio52:5600\n",
            "Número Aleatorio53:3600\n",
            "Número Aleatorio54:9600\n",
            "Número Aleatorio55:1600\n",
            "Número Aleatorio56:5600\n",
            "Número Aleatorio57:3600\n",
            "Número Aleatorio58:9600\n",
            "Número Aleatorio59:1600\n",
            "Número Aleatorio60:5600\n",
            "Número Aleatorio61:3600\n",
            "Número Aleatorio62:9600\n",
            "Número Aleatorio63:1600\n",
            "Número Aleatorio64:5600\n",
            "Número Aleatorio65:3600\n",
            "Número Aleatorio66:9600\n",
            "Número Aleatorio67:1600\n",
            "Número Aleatorio68:5600\n",
            "Número Aleatorio69:3600\n",
            "Número Aleatorio70:9600\n",
            "Número Aleatorio71:1600\n",
            "Número Aleatorio72:5600\n",
            "Número Aleatorio73:3600\n",
            "Número Aleatorio74:9600\n",
            "Número Aleatorio75:1600\n",
            "Número Aleatorio76:5600\n",
            "Número Aleatorio77:3600\n",
            "Número Aleatorio78:9600\n",
            "Número Aleatorio79:1600\n",
            "Número Aleatorio80:5600\n",
            "Número Aleatorio81:3600\n",
            "Número Aleatorio82:9600\n",
            "Número Aleatorio83:1600\n",
            "Número Aleatorio84:5600\n",
            "Número Aleatorio85:3600\n",
            "Número Aleatorio86:9600\n",
            "Número Aleatorio87:1600\n",
            "Número Aleatorio88:5600\n",
            "Número Aleatorio89:3600\n",
            "Número Aleatorio90:9600\n",
            "Número Aleatorio91:1600\n",
            "Número Aleatorio92:5600\n",
            "Número Aleatorio93:3600\n",
            "Número Aleatorio94:9600\n",
            "Número Aleatorio95:1600\n",
            "Número Aleatorio96:5600\n",
            "Número Aleatorio97:3600\n",
            "Número Aleatorio98:9600\n",
            "Número Aleatorio99:1600\n",
            "Número Aleatorio100:5600\n"
          ]
        }
      ]
    }
  ]
}