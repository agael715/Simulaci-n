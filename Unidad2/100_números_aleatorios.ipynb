{
  "nbformat": 4,
  "nbformat_minor": 0,
  "metadata": {
    "colab": {
      "provenance": [],
      "authorship_tag": "ABX9TyNm2GdFHJTXz4HfzB+ABRDc",
      "include_colab_link": true
    },
    "kernelspec": {
      "name": "python3",
      "display_name": "Python 3"
    },
    "language_info": {
      "name": "python"
    }
  },
  "cells": [
    {
      "cell_type": "markdown",
      "metadata": {
        "id": "view-in-github",
        "colab_type": "text"
      },
      "source": [
        "<a href=\"https://colab.research.google.com/github/agael715/Simulaci-n/blob/main/Unidad2/100_n%C3%BAmeros_aleatorios.ipynb\" target=\"_parent\"><img src=\"https://colab.research.google.com/assets/colab-badge.svg\" alt=\"Open In Colab\"/></a>"
      ]
    },
    {
      "cell_type": "markdown",
      "source": [
        "#Simulación\n",
        "##Congruencia lineal\n",
        "###Números aleatorios\n",
        "####22041516\n",
        "####Gael Alvarado"
      ],
      "metadata": {
        "id": "ZCDz4vKYadnX"
      }
    },
    {
      "cell_type": "code",
      "source": [
        "import random\n",
        "\n",
        "def congruential_lineal(semilla, a, c, m, n):\n",
        "    numero = []\n",
        "    x = semilla  # Valor inicial\n",
        "    for _ in range(n):\n",
        "        x = (a * x + c) % m\n",
        "        numero.append(x / m)\n",
        "    return numero\n",
        "\n",
        "semilla = random.randint(1, 1000)  # Semilla aleatoria\n",
        "a = 1664525  # Multiplicador Numerical\n",
        "c = 1013904223  # Incremento\n",
        "m = 2**32  # Módulo\n",
        "n = 100  # Cantidad números\n",
        "\n",
        "random_numbers = congruential_lineal(semilla, a, c, m, n)\n",
        "\n",
        "# Mostrar los números generados\n",
        "for i, num in enumerate(random_numbers):\n",
        "    print(f\"Número {i+1}: {num:.6f}\")\n"
      ],
      "metadata": {
        "colab": {
          "base_uri": "https://localhost:8080/"
        },
        "id": "AnO4wzNWapCG",
        "outputId": "1c29d6fa-02ca-41af-e752-66e63f39fb6f"
      },
      "execution_count": 2,
      "outputs": [
        {
          "output_type": "stream",
          "name": "stdout",
          "text": [
            "Número 1: 0.472087\n",
            "Número 2: 0.517160\n",
            "Número 3: 0.806872\n",
            "Número 4: 0.210834\n",
            "Número 5: 0.262028\n",
            "Número 6: 0.977726\n",
            "Número 7: 0.845279\n",
            "Número 8: 0.577189\n",
            "Número 9: 0.315294\n",
            "Número 10: 0.567930\n",
            "Número 11: 0.115645\n",
            "Número 12: 0.788177\n",
            "Número 13: 0.522323\n",
            "Número 14: 0.542048\n",
            "Número 15: 0.057697\n",
            "Número 16: 0.366742\n",
            "Número 17: 0.978648\n",
            "Número 18: 0.568665\n",
            "Número 19: 0.221804\n",
            "Número 20: 0.694142\n",
            "Número 21: 0.396829\n",
            "Número 22: 0.304467\n",
            "Número 23: 0.572022\n",
            "Número 24: 0.918206\n",
            "Número 25: 0.507630\n",
            "Número 26: 0.328387\n",
            "Número 27: 0.973700\n",
            "Número 28: 0.761020\n",
            "Número 29: 0.653591\n",
            "Número 30: 0.076722\n",
            "Número 31: 0.193789\n",
            "Número 32: 0.491639\n",
            "Número 33: 0.028103\n",
            "Número 34: 0.669853\n",
            "Número 35: 0.991964\n",
            "Número 36: 0.579467\n",
            "Número 37: 0.263110\n",
            "Número 38: 0.771197\n",
            "Número 39: 0.130696\n",
            "Número 40: 0.793935\n",
            "Número 41: 0.318580\n",
            "Número 42: 0.869004\n",
            "Número 43: 0.382395\n",
            "Número 44: 0.766077\n",
            "Número 45: 0.876852\n",
            "Número 46: 0.621630\n",
            "Número 47: 0.861741\n",
            "Número 48: 0.277658\n",
            "Número 49: 0.694990\n",
            "Número 50: 0.156920\n",
            "Número 51: 0.261349\n",
            "Número 52: 0.793462\n",
            "Número 53: 0.618272\n",
            "Número 54: 0.466309\n",
            "Número 55: 0.818864\n",
            "Número 56: 0.002365\n",
            "Número 57: 0.207939\n",
            "Número 58: 0.284277\n",
            "Número 59: 0.093636\n",
            "Número 60: 0.382831\n",
            "Número 61: 0.186323\n",
            "Número 62: 0.093781\n",
            "Número 63: 0.881087\n",
            "Número 64: 0.058435\n",
            "Número 65: 0.152482\n",
            "Número 66: 0.148291\n",
            "Número 67: 0.842902\n",
            "Número 68: 0.459066\n",
            "Número 69: 0.271474\n",
            "Número 70: 0.651050\n",
            "Número 71: 0.681157\n",
            "Número 72: 0.553399\n",
            "Número 73: 0.890383\n",
            "Número 74: 0.482181\n",
            "Número 75: 0.934526\n",
            "Número 76: 0.668302\n",
            "Número 77: 0.284228\n",
            "Número 78: 0.114283\n",
            "Número 79: 0.724682\n",
            "Número 80: 0.160766\n",
            "Número 81: 0.984884\n",
            "Número 82: 0.607115\n",
            "Número 83: 0.031010\n",
            "Número 84: 0.458007\n",
            "Número 85: 0.396132\n",
            "Número 86: 0.822015\n",
            "Número 87: 0.321776\n",
            "Número 88: 0.231354\n",
            "Número 89: 0.647969\n",
            "Número 90: 0.246668\n",
            "Número 91: 0.619864\n",
            "Número 92: 0.719554\n",
            "Número 93: 0.893299\n",
            "Número 94: 0.070848\n",
            "Número 95: 0.331200\n",
            "Número 96: 0.467114\n",
            "Número 97: 0.500133\n",
            "Número 98: 0.403769\n",
            "Número 99: 0.414006\n",
            "Número 100: 0.993305\n"
          ]
        }
      ]
    }
  ]
}