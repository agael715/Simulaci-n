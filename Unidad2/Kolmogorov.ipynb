{
  "nbformat": 4,
  "nbformat_minor": 0,
  "metadata": {
    "colab": {
      "provenance": [],
      "authorship_tag": "ABX9TyMoFB2WOm6qXpfWyHlPnqvf",
      "include_colab_link": true
    },
    "kernelspec": {
      "name": "python3",
      "display_name": "Python 3"
    },
    "language_info": {
      "name": "python"
    }
  },
  "cells": [
    {
      "cell_type": "markdown",
      "metadata": {
        "id": "view-in-github",
        "colab_type": "text"
      },
      "source": [
        "<a href=\"https://colab.research.google.com/github/agael715/Simulaci-n/blob/main/Unidad2/Kolmogorov.ipynb\" target=\"_parent\"><img src=\"https://colab.research.google.com/assets/colab-badge.svg\" alt=\"Open In Colab\"/></a>"
      ]
    },
    {
      "cell_type": "markdown",
      "source": [
        "#Simulación\n",
        "##Kolmogorov-Smirnov\n",
        "###Gael Alvarado\n",
        "####22041516"
      ],
      "metadata": {
        "id": "lnnADUBSsAm_"
      }
    },
    {
      "cell_type": "code",
      "source": [
        "import numpy as np\n",
        "import scipy.stats as stats\n",
        "\n",
        "# 1. Generar 100 números aleatorios en el rango [0, 1]\n",
        "n = 100\n",
        "random_numbers = np.random.uniform(0, 1, n)\n",
        "\n",
        "# 2. Dividir el rango [0,1] en 10 intervalos\n",
        "intervalos = 10\n",
        "observed_counts, bin_edges = np.histogram(random_numbers, bins=intervalos)\n",
        "\n",
        "# 3. Calcular el número esperado en cada intervalo si la distribución es uniforme\n",
        "expected_count = n / intervalos  # Se espera una distribución uniforme\n",
        "\n",
        "# 4. Realizar la prueba de Chi-Cuadrado\n",
        "chi2_statistic, p_value = stats.chisquare(observed_counts, [expected_count] * intervalos)\n",
        "\n",
        "# 5. Mostrar resultados\n",
        "print(\"\\nFrecuencias observadas por intervalo:\", observed_counts)\n",
        "print(\"Frecuencia esperada por intervalo:\", expected_count)\n",
        "print(f\"Chi-Cuadrado: {chi2_statistic:.4f}\")\n",
        "print(f\"Valor p: {p_value:.4f}\")\n",
        "\n",
        "# 6. Interpretación del resultado\n",
        "if p_value < 0.05:\n",
        "    print(\"\\nRechazamos la hipótesis nula: la distribución no es uniforme.\")\n",
        "else:\n",
        "    print(\"\\nNo podemos rechazar la hipótesis nula: la distribución parece uniforme.\")\n",
        ""
      ],
      "metadata": {
        "colab": {
          "base_uri": "https://localhost:8080/"
        },
        "id": "ialdBzR2s1Fh",
        "outputId": "9aaf0672-1148-4556-fb82-5436f0201d43"
      },
      "execution_count": 1,
      "outputs": [
        {
          "output_type": "stream",
          "name": "stdout",
          "text": [
            "\n",
            "Frecuencias observadas por intervalo: [10 15  5 12 10 11  9 10 12  6]\n",
            "Frecuencia esperada por intervalo: 10.0\n",
            "Chi-Cuadrado: 7.6000\n",
            "Valor p: 0.5749\n",
            "\n",
            "No podemos rechazar la hipótesis nula: la distribución parece uniforme.\n"
          ]
        }
      ]
    }
  ]
}