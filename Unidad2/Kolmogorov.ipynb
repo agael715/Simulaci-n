{
  "nbformat": 4,
  "nbformat_minor": 0,
  "metadata": {
    "colab": {
      "provenance": [],
      "authorship_tag": "ABX9TyOwkg50Jm8eZ7hvauwxZGpt",
      "include_colab_link": true
    },
    "kernelspec": {
      "name": "python3",
      "display_name": "Python 3"
    },
    "language_info": {
      "name": "python"
    }
  },
  "cells": [
    {
      "cell_type": "markdown",
      "metadata": {
        "id": "view-in-github",
        "colab_type": "text"
      },
      "source": [
        "<a href=\"https://colab.research.google.com/github/agael715/Simulaci-n/blob/main/Unidad2/Kolmogorov.ipynb\" target=\"_parent\"><img src=\"https://colab.research.google.com/assets/colab-badge.svg\" alt=\"Open In Colab\"/></a>"
      ]
    },
    {
      "cell_type": "markdown",
      "source": [
        "#Simulación\n",
        "##Kolmogorov-Smirnov\n",
        "###Gael Alvarado\n",
        "####22041516"
      ],
      "metadata": {
        "id": "lnnADUBSsAm_"
      }
    },
    {
      "cell_type": "code",
      "source": [
        "import random\n",
        "import scipy.stats as stats\n",
        "\n",
        "def congruential_lineal(semilla, a, c, m, n):\n",
        "    numero = []\n",
        "    x = semilla  # Valor inicial\n",
        "    for _ in range(n):\n",
        "        x = (a * x + c) % m\n",
        "        numero.append(x / m)\n",
        "    return numero\n",
        "\n",
        "semilla = random.randint(1, 1000)\n",
        "a = 1664525\n",
        "c = 1013904223\n",
        "m = 2**32\n",
        "n = 100\n",
        "\n",
        "random_num = congruential_lineal(semilla, a, c, m, n)\n",
        "\n",
        "# Aplicar prueba de Kolmogorov-Smirnov\n",
        "ks_statistic, valu = stats.kstest(random_num, 'uniform')\n",
        "\n",
        "# Mostrar resultado\n",
        "print(f\"Estadístico de Kolmogorov-Smirnov: {ks_statistic:.6f}\")\n",
        "print(f\"Valor p: {valu:.6f}\")\n",
        "\n",
        "# Interpretación de la prueba\n",
        "afa = 0.05  # Nivel de significancia\n",
        "decision = \"Se acepta H0 (Los números siguen una distribución uniforme)\" if valu > afa else \"Se rechaza H0 (Los números no siguen una distribución uniforme)\"\n",
        "print(decision)\n"
      ],
      "metadata": {
        "colab": {
          "base_uri": "https://localhost:8080/"
        },
        "id": "ialdBzR2s1Fh",
        "outputId": "18d39f96-0b1d-4d23-a540-2fee7f0946f6"
      },
      "execution_count": 13,
      "outputs": [
        {
          "output_type": "stream",
          "name": "stdout",
          "text": [
            "Estadístico de Kolmogorov-Smirnov: 0.075190\n",
            "Valor p: 0.597165\n",
            "Se acepta H0 (Los números siguen una distribución uniforme)\n"
          ]
        }
      ]
    }
  ]
}