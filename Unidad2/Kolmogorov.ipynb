{
  "nbformat": 4,
  "nbformat_minor": 0,
  "metadata": {
    "colab": {
      "provenance": [],
      "authorship_tag": "ABX9TyMuQC+l2kyy5p3vsSWldL8h",
      "include_colab_link": true
    },
    "kernelspec": {
      "name": "python3",
      "display_name": "Python 3"
    },
    "language_info": {
      "name": "python"
    }
  },
  "cells": [
    {
      "cell_type": "markdown",
      "metadata": {
        "id": "view-in-github",
        "colab_type": "text"
      },
      "source": [
        "<a href=\"https://colab.research.google.com/github/agael715/Simulaci-n/blob/main/Unidad2/Kolmogorov.ipynb\" target=\"_parent\"><img src=\"https://colab.research.google.com/assets/colab-badge.svg\" alt=\"Open In Colab\"/></a>"
      ]
    },
    {
      "cell_type": "markdown",
      "source": [
        "#Simulación\n",
        "##Kolmogorov-Smirnov\n",
        "###Gael Alvarado\n",
        "####22041516"
      ],
      "metadata": {
        "id": "lnnADUBSsAm_"
      }
    },
    {
      "cell_type": "code",
      "source": [
        "import random\n",
        "import scipy.stats as stats\n",
        "\n",
        "def congruential_lineal(semilla, a, c, m, n):\n",
        "\n",
        "    numero = []\n",
        "    x = semilla  # Valor inicial\n",
        "    for _ in range(n):\n",
        "        x = (a * x + c) % m\n",
        "        numero.append(x / m)  # Normalizar entre 0 y 1\n",
        "    return numero\n",
        "\n",
        "# Parámetros del generador congruencial lineal\n",
        "semilla = random.randint(1, 1000)\n",
        "a = 1664525\n",
        "c = 1013904223\n",
        "m = 2**32\n",
        "n = 100\n",
        "\n",
        "random_nume = congruential_lineal(semilla, a, c, m, n)\n",
        "\n",
        "# Aplicar la prueba de Kolmogorov-Smirnov\n",
        "ks_statistic, p_value = stats.kstest(random_nume, 'uniform')\n",
        "\n",
        "# Mostrar resultados\n",
        "print(f\"Estadístico de Kolmogorov-Smirnov: {ks_statistic:.6f}\")\n",
        "print(f\"Valor p: {p_value:.6f}\")\n",
        "\n",
        "# Interpretación de la prueba\n",
        "afa = 0.05  # Nivel de significancia\n",
        "decision = \"Se acepta H0 (Los números siguen una distribución uniforme)\" if p_value > afa else \"Se rechaza H0 (Los números no siguen una distribución uniforme)\"\n",
        "print(decision)\n",
        "\n"
      ],
      "metadata": {
        "colab": {
          "base_uri": "https://localhost:8080/"
        },
        "id": "ialdBzR2s1Fh",
        "outputId": "3ee90a07-5861-44aa-8dab-796e3d741f99"
      },
      "execution_count": 3,
      "outputs": [
        {
          "output_type": "stream",
          "name": "stdout",
          "text": [
            "Estadístico de Kolmogorov-Smirnov: 0.073483\n",
            "Valor p: 0.625863\n",
            "Se acepta H0 (Los números siguen una distribución uniforme)\n"
          ]
        }
      ]
    }
  ]
}